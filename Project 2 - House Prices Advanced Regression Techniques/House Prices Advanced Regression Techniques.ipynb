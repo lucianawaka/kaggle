{
 "cells": [
  {
   "cell_type": "code",
   "execution_count": 3,
   "id": "29f210c9",
   "metadata": {},
   "outputs": [
    {
     "name": "stdout",
     "output_type": "stream",
     "text": [
      "Author: Luciana - v.0.1 2023-02-12\n",
      "\n",
      "pandas: 1.4.2\n",
      "\n"
     ]
    }
   ],
   "source": [
    "# Libs\n",
    "import pandas as pd\n",
    "\n",
    "# Package version used in this notebook\n",
    "%reload_ext watermark\n",
    "%watermark -a \"Luciana - v.0.1 2023-02-12\" --iversions"
   ]
  },
  {
   "cell_type": "markdown",
   "id": "76966aa3",
   "metadata": {},
   "source": [
    "## 1 - Load Data"
   ]
  },
  {
   "cell_type": "code",
   "execution_count": 5,
   "id": "875303f3",
   "metadata": {},
   "outputs": [],
   "source": [
    "## train\n",
    "df_train = pd.read_csv('data/train.csv')\n",
    "## test\n",
    "df_test = pd.read_csv('data/test.csv')"
   ]
  },
  {
   "cell_type": "markdown",
   "id": "dd1665f7",
   "metadata": {},
   "source": [
    "## 2 - Exploring the data - EAD"
   ]
  },
  {
   "cell_type": "code",
   "execution_count": 8,
   "id": "09ae20b0",
   "metadata": {},
   "outputs": [
    {
     "data": {
      "text/plain": [
       "(1460, 81)"
      ]
     },
     "execution_count": 8,
     "metadata": {},
     "output_type": "execute_result"
    }
   ],
   "source": [
    "df_train.shape"
   ]
  },
  {
   "cell_type": "code",
   "execution_count": null,
   "id": "e1078718",
   "metadata": {},
   "outputs": [],
   "source": []
  }
 ],
 "metadata": {
  "kernelspec": {
   "display_name": "Python 3 (ipykernel)",
   "language": "python",
   "name": "python3"
  },
  "language_info": {
   "codemirror_mode": {
    "name": "ipython",
    "version": 3
   },
   "file_extension": ".py",
   "mimetype": "text/x-python",
   "name": "python",
   "nbconvert_exporter": "python",
   "pygments_lexer": "ipython3",
   "version": "3.9.12"
  }
 },
 "nbformat": 4,
 "nbformat_minor": 5
}
